{
 "cells": [
  {
   "cell_type": "markdown",
   "id": "71cb259f",
   "metadata": {},
   "source": [
    "# Breast Cancer Dataset - Exploratory Data Analysis (EDA)\n",
    "\n",
    "This notebook contains detailed analysis of the breast cancer dataset.\n",
    "\n",
    "## Contents:\n",
    "1. Data Loading and Initial Inspection\n",
    "2. Data Quality Analysis\n",
    "3. Statistical Analysis\n",
    "4. Visualizations\n",
    "5. Correlation Analysis\n",
    "6. Feature Distributions\n",
    "7. Conclusions and Recommendations"
   ]
  },
  {
   "cell_type": "code",
   "execution_count": null,
   "id": "27f7966b",
   "metadata": {},
   "outputs": [],
   "source": [
    "# Import required libraries\n",
    "import pandas as pd\n",
    "import numpy as np\n",
    "import matplotlib.pyplot as plt\n",
    "import seaborn as sns\n",
    "import plotly.express as px\n",
    "import plotly.graph_objects as go\n",
    "from plotly.subplots import make_subplots\n",
    "import warnings\n",
    "\n",
    "# Settings\n",
    "warnings.filterwarnings('ignore')\n",
    "plt.style.use('seaborn-v0_8')\n",
    "sns.set_palette(\"husl\")\n",
    "plt.rcParams['figure.figsize'] = (12, 8)\n",
    "pd.set_option('display.max_columns', None)\n",
    "\n",
    "print(\"✅ Libraries loaded successfully!\")"
   ]
  },
  {
   "cell_type": "markdown",
   "id": "acfb604b",
   "metadata": {},
   "source": [
    "## 1. Data Loading and Initial Inspection"
   ]
  },
  {
   "cell_type": "code",
   "execution_count": null,
   "id": "98427573",
   "metadata": {},
   "outputs": [],
   "source": [
    "# Load the data\n",
    "data = pd.read_csv('../data/breast-cancer.csv')\n",
    "\n",
    "print(f\"📊 Data shape: {data.shape}\")\n",
    "print(f\"📝 Number of columns: {data.shape[1]}\")\n",
    "print(f\"📈 Number of rows: {data.shape[0]}\")\n",
    "print(\"\\n📋 First 5 rows:\")\n",
    "data.head()"
   ]
  },
  {
   "cell_type": "code",
   "execution_count": null,
   "id": "1cef4834",
   "metadata": {},
   "outputs": [],
   "source": [
    "# Data types and basic information\n",
    "print(\"📊 Data Types and Basic Information:\")\n",
    "print(\"=\" * 50)\n",
    "data.info()\n",
    "\n",
    "print(\"\\n📊 Column Names:\")\n",
    "print(\"=\" * 30)\n",
    "for i, col in enumerate(data.columns, 1):\n",
    "    print(f\"{i:2d}. {col}\")"
   ]
  },
  {
   "cell_type": "markdown",
   "id": "ec3a792a",
   "metadata": {},
   "source": [
    "## 2. Data Quality Analysis"
   ]
  },
  {
   "cell_type": "code",
   "execution_count": null,
   "id": "28b839fb",
   "metadata": {},
   "outputs": [],
   "source": [
    "# Missing value analysis\n",
    "missing_values = data.isnull().sum()\n",
    "missing_percentage = (missing_values / len(data)) * 100\n",
    "\n",
    "missing_df = pd.DataFrame({\n",
    "    'Column': data.columns,\n",
    "    'Missing_Values': missing_values,\n",
    "    'Percentage': missing_percentage\n",
    "})\n",
    "\n",
    "missing_df = missing_df[missing_df['Missing_Values'] > 0].sort_values('Missing_Values', ascending=False)\n",
    "\n",
    "if len(missing_df) > 0:\n",
    "    print(\"⚠️ Missing Values:\")\n",
    "    print(missing_df)\n",
    "else:\n",
    "    print(\"✅ No missing values!\")\n",
    "\n",
    "# Target variable distribution\n",
    "print(\"\\n🎯 Target Variable (diagnosis) Distribution:\")\n",
    "print(\"=\" * 40)\n",
    "diagnosis_counts = data['diagnosis'].value_counts()\n",
    "print(diagnosis_counts)\n",
    "print(f\"\\nM (Malignant): {diagnosis_counts['M']} ({diagnosis_counts['M']/len(data)*100:.1f}%)\")\n",
    "print(f\"B (Benign): {diagnosis_counts['B']} ({diagnosis_counts['B']/len(data)*100:.1f}%)\")"
   ]
  },
  {
   "cell_type": "code",
   "execution_count": null,
   "id": "8bdeb14c",
   "metadata": {},
   "outputs": [],
   "source": [
    "# Target variable visualization\n",
    "fig, axes = plt.subplots(1, 2, figsize=(15, 6))\n",
    "\n",
    "# Pie chart\n",
    "colors = ['#ff9999', '#66b3ff']\n",
    "wedges, texts, autotexts = axes[0].pie(diagnosis_counts.values, \n",
    "                                      labels=['Malignant (Malignant)', 'Benign (Benign)'], \n",
    "                                      autopct='%1.1f%%', \n",
    "                                      startangle=90,\n",
    "                                      colors=colors,\n",
    "                                      explode=(0.05, 0))"
   ]
  },
  {
   "cell_type": "markdown",
   "id": "379ab3cb",
   "metadata": {},
   "source": [
    "## 3. Statistical Analysis"
   ]
  },
  {
   "cell_type": "code",
   "execution_count": null,
   "id": "96add767",
   "metadata": {},
   "outputs": [],
   "source": [
    "# Separate numeric columns\n",
    "numeric_columns = data.select_dtypes(include=[np.number]).columns.tolist()\n",
    "if 'id' in numeric_columns:\n",
    "    numeric_columns.remove('id')\n",
    "\n",
    "print(f\"📊 Number of numeric columns: {len(numeric_columns)}\")\n",
    "print(\"\\n📈 Basic Statistics:\")\n",
    "print(\"=\" * 50)\n",
    "data[numeric_columns].describe().round(3)"
   ]
  },
  {
   "cell_type": "code",
   "execution_count": null,
   "id": "04073da6",
   "metadata": {},
   "outputs": [],
   "source": [
    "# Group statistics by target variable\n",
    "print(\"🎯 Statistics by Diagnosis Type:\")\n",
    "print(\"=\" * 40)\n",
    "\n",
    "# Group statistics for first 10 features\n",
    "sample_features = numeric_columns[:10]\n",
    "grouped_stats = data.groupby('diagnosis')[sample_features].agg(['mean', 'median', 'std']).round(3)\n",
    "print(grouped_stats)"
   ]
  },
  {
   "cell_type": "markdown",
   "id": "02325e96",
   "metadata": {},
   "source": [
    "## 4. Visualizations"
   ]
  },
  {
   "cell_type": "code",
   "execution_count": null,
   "id": "e047d514",
   "metadata": {},
   "outputs": [],
   "source": [
    "# Feature distributions (first 12 features)\n",
    "fig, axes = plt.subplots(3, 4, figsize=(20, 15))\n",
    "axes = axes.ravel()\n",
    "\n",
    "features_to_plot = numeric_columns[:12]\n",
    "\n",
    "for idx, feature in enumerate(features_to_plot):\n",
    "    # Separate histograms for Malignant and Benign\n",
    "    malignant_data = data[data['diagnosis'] == 'M'][feature]\n",
    "    benign_data = data[data['diagnosis'] == 'B'][feature]\n",
    "    \n",
    "    axes[idx].hist(malignant_data, alpha=0.7, label='Malignant', bins=30, color='red')\n",
    "    axes[idx].hist(benign_data, alpha=0.7, label='Benign', bins=30, color='blue')\n",
    "    \n",
    "    axes[idx].set_title(f'{feature}', fontsize=10)\n",
    "    axes[idx].legend()\n",
    "    axes[idx].grid(True, alpha=0.3)\n",
    "\n",
    "plt.suptitle('Feature Distributions - By Diagnosis Type', fontsize=16, fontweight='bold')\n",
    "plt.tight_layout()\n",
    "plt.show()"
   ]
  },
  {
   "cell_type": "code",
   "execution_count": null,
   "id": "2dc4ffbd",
   "metadata": {},
   "outputs": [],
   "source": [
    "# Box plot comparisons\n",
    "fig, axes = plt.subplots(2, 3, figsize=(18, 12))\n",
    "axes = axes.ravel()\n",
    "\n",
    "important_features = ['radius_mean', 'texture_mean', 'perimeter_mean', \n",
    "                     'area_mean', 'smoothness_mean', 'compactness_mean']\n",
    "\n",
    "for idx, feature in enumerate(important_features):\n",
    "    if feature in data.columns:\n",
    "        sns.boxplot(data=data, x='diagnosis', y=feature, ax=axes[idx])\n",
    "        axes[idx].set_title(f'{feature} - Box Plot')\n",
    "        axes[idx].grid(True, alpha=0.3)\n",
    "\n",
    "plt.suptitle('Box Plot Comparisons of Important Features', fontsize=16, fontweight='bold')\n",
    "plt.tight_layout()\n",
    "plt.show()"
   ]
  },
  {
   "cell_type": "markdown",
   "id": "36ca71bc",
   "metadata": {},
   "source": [
    "## 5. Correlation Analysis"
   ]
  },
  {
   "cell_type": "code",
   "execution_count": null,
   "id": "4b7d4622",
   "metadata": {},
   "outputs": [],
   "source": [
    "# Convert target variable to numeric\n",
    "data_numeric = data.copy()\n",
    "data_numeric['target'] = data_numeric['diagnosis'].map({'M': 0, 'B': 1})\n",
    "\n",
    "# Correlation matrix\n",
    "correlation_matrix = data_numeric[numeric_columns + ['target']].corr()\n",
    "\n",
    "# Find highest correlations\n",
    "target_corr = correlation_matrix['target'].abs().sort_values(ascending=False)\n",
    "print(\"🎯 Features with highest correlation to target variable:\")\n",
    "print(\"=\" * 60)\n",
    "for feature, corr in target_corr.head(15).items():\n",
    "    if feature != 'target':\n",
    "        print(f\"{feature:<25}: {corr:.4f}\")"
   ]
  },
  {
   "cell_type": "code",
   "execution_count": null,
   "id": "e538c89f",
   "metadata": {},
   "outputs": [],
   "source": [
    "# Correlation matrix heatmap (top 15 features)\n",
    "top_features = target_corr.head(16).index.tolist()  # including target\n",
    "top_corr_matrix = correlation_matrix.loc[top_features, top_features]\n",
    "\n",
    "plt.figure(figsize=(14, 12))\n",
    "mask = np.triu(np.ones_like(top_corr_matrix, dtype=bool))\n",
    "\n",
    "sns.heatmap(top_corr_matrix, mask=mask, annot=True, cmap='RdYlBu_r', \n",
    "            center=0, square=True, fmt='.3f', cbar_kws={\"shrink\": .8})\n",
    "\n",
    "plt.title('Correlation Matrix of Most Important Features', fontsize=16, fontweight='bold')\n",
    "plt.tight_layout()\n",
    "plt.show()"
   ]
  },
  {
   "cell_type": "code",
   "execution_count": null,
   "id": "4810c0fc",
   "metadata": {},
   "outputs": [],
   "source": [
    "# High correlation feature pairs\n",
    "high_corr_pairs = []\n",
    "for i in range(len(correlation_matrix.columns)):\n",
    "    for j in range(i+1, len(correlation_matrix.columns)):\n",
    "        corr_value = correlation_matrix.iloc[i, j]\n",
    "        if abs(corr_value) > 0.8:  # Correlation higher than 0.8\n",
    "            high_corr_pairs.append({\n",
    "                'Feature 1': correlation_matrix.columns[i],\n",
    "                'Feature 2': correlation_matrix.columns[j],\n",
    "                'Correlation': corr_value\n",
    "            })\n",
    "\n",
    "if high_corr_pairs:\n",
    "    high_corr_df = pd.DataFrame(high_corr_pairs)\n",
    "    high_corr_df = high_corr_df.sort_values('Correlation', key=abs, ascending=False)\n",
    "    \n",
    "    print(f\"⚠️ High Correlation Feature Pairs (|r| > 0.8): {len(high_corr_df)}\")\n",
    "    print(\"=\" * 70)\n",
    "    print(high_corr_df.head(10))\n",
    "else:\n",
    "    print(\"✅ No feature pairs with correlation higher than 0.8.\")"
   ]
  },
  {
   "cell_type": "markdown",
   "id": "e765295f",
   "metadata": {},
   "source": [
    "## 6. Feature Distributions - Interactive Visualization"
   ]
  },
  {
   "cell_type": "code",
   "execution_count": null,
   "id": "1fdb9595",
   "metadata": {},
   "outputs": [],
   "source": [
    "# Interactive scatter plot (Plotly)\n",
    "# Select top 2 most important features\n",
    "top_2_features = target_corr.head(3).index.tolist()[1:3]  # excluding target, first 2\n",
    "\n",
    "fig = px.scatter(data, x=top_2_features[0], y=top_2_features[1], \n",
    "                color='diagnosis', \n",
    "                title=f'{top_2_features[0]} vs {top_2_features[1]}',\n",
    "                color_discrete_map={'M': 'red', 'B': 'blue'},\n",
    "                hover_data=data.columns.tolist())\n",
    "\n",
    "fig.update_layout(width=800, height=600)\n",
    "fig.show()"
   ]
  },
  {
   "cell_type": "code",
   "execution_count": null,
   "id": "f131339c",
   "metadata": {},
   "outputs": [],
   "source": [
    "# 3D scatter plot\n",
    "if len(target_corr) >= 4:\n",
    "    top_3_features = target_corr.head(4).index.tolist()[1:4]  # excluding target, first 3\n",
    "    \n",
    "    fig = px.scatter_3d(data, x=top_3_features[0], y=top_3_features[1], z=top_3_features[2],\n",
    "                       color='diagnosis',\n",
    "                       title=f'3D Scatter Plot: {\" vs \".join(top_3_features)}',\n",
    "                       color_discrete_map={'M': 'red', 'B': 'blue'})\n",
    "    \n",
    "    fig.update_layout(width=900, height=700)\n",
    "    fig.show()"
   ]
  },
  {
   "cell_type": "markdown",
   "id": "1e93c202",
   "metadata": {},
   "source": [
    "## 7. Statistical Tests"
   ]
  },
  {
   "cell_type": "code",
   "execution_count": null,
   "id": "03575e6f",
   "metadata": {},
   "outputs": [],
   "source": [
    "from scipy import stats\n",
    "\n",
    "# Test group differences with T-test\n",
    "print(\"📊 T-Test Results (Malignant vs Benign):\")\n",
    "print(\"=\" * 50)\n",
    "print(f\"{'Feature':<25} {'t-statistic':<15} {'p-value':<15} {'Significant':<10}\")\n",
    "print(\"-\" * 65)\n",
    "\n",
    "significant_features = []\n",
    "\n",
    "for feature in numeric_columns[:10]:  # For first 10 features\n",
    "    malignant_group = data[data['diagnosis'] == 'M'][feature]\n",
    "    benign_group = data[data['diagnosis'] == 'B'][feature]\n",
    "    \n",
    "    t_stat, p_value = stats.ttest_ind(malignant_group, benign_group)\n",
    "    \n",
    "    is_significant = \"Yes\" if p_value < 0.05 else \"No\"\n",
    "    if p_value < 0.05:\n",
    "        significant_features.append(feature)\n",
    "    \n",
    "    print(f\"{feature:<25} {t_stat:<15.4f} {p_value:<15.6f} {is_significant:<10}\")\n",
    "\n",
    "print(f\"\\n✅ Number of features with significant difference: {len(significant_features)}\")"
   ]
  },
  {
   "cell_type": "markdown",
   "id": "9da5f6a7",
   "metadata": {},
   "source": [
    "## 8. Conclusions and Recommendations"
   ]
  },
  {
   "cell_type": "code",
   "execution_count": null,
   "id": "7a4cac4c",
   "metadata": {},
   "outputs": [],
   "source": [
    "print(\"📋 EDA RESULTS AND RECOMMENDATIONS\")\n",
    "print(\"=\" * 50)\n",
    "\n",
    "print(f\"\\n📊 DATASET SUMMARY:\")\n",
    "print(f\"• Total number of samples: {len(data)}\")\n",
    "print(f\"• Number of features: {len(numeric_columns)}\")\n",
    "print(f\"• Missing values: {'Yes' if missing_values.sum() > 0 else 'No'}\")\n",
    "\n",
    "print(f\"\\n🎯 TARGET VARIABLE:\")\n",
    "print(f\"• Malignant (M): {diagnosis_counts['M']} ({diagnosis_counts['M']/len(data)*100:.1f}%)\")\n",
    "print(f\"• Benign (B): {diagnosis_counts['B']} ({diagnosis_counts['B']/len(data)*100:.1f}%)\")\n",
    "print(f\"• Balance status: {'Balanced' if abs(diagnosis_counts['M'] - diagnosis_counts['B']) < len(data)*0.1 else 'Imbalanced'}\")\n",
    "\n",
    "print(f\"\\n🔗 CORRELATION:\")\n",
    "print(f\"• Highest correlated feature: {target_corr.index[1]} ({target_corr.iloc[1]:.4f})\")\n",
    "print(f\"• Number of high correlation pairs: {len(high_corr_pairs) if high_corr_pairs else 0}\")\n",
    "\n",
    "print(f\"\\n📈 STATISTICAL SIGNIFICANCE:\")\n",
    "print(f\"• Number of features with significant difference: {len(significant_features)}\")\n",
    "\n",
    "print(f\"\\n💡 RECOMMENDATIONS:\")\n",
    "print(\"• Use correlation analysis results for feature selection\")\n",
    "print(\"• Review highly correlated features again\")\n",
    "print(\"• Use stratified sampling if data imbalance exists\")\n",
    "print(\"• Prioritize most important features in machine learning models\")\n",
    "print(\"• Perform outlier analysis to check for anomalous values\")"
   ]
  },
  {
   "cell_type": "code",
   "execution_count": null,
   "id": "556f38ac",
   "metadata": {},
   "outputs": [],
   "source": [
    "# Save summary statistics to file\n",
    "summary_stats = {\n",
    "    'dataset_shape': data.shape,\n",
    "    'missing_values': missing_values.sum(),\n",
    "    'target_distribution': diagnosis_counts.to_dict(),\n",
    "    'top_correlated_features': target_corr.head(10).to_dict(),\n",
    "    'high_correlation_pairs': len(high_corr_pairs) if high_corr_pairs else 0,\n",
    "    'significant_features': significant_features\n",
    "}\n",
    "\n",
    "import json\n",
    "with open('../results/eda_summary.json', 'w') as f:\n",
    "    json.dump(summary_stats, f, indent=2, default=str)\n",
    "\n",
    "print(\"✅ EDA summary saved to '../results/eda_summary.json'!\")"
   ]
  }
 ],
 "metadata": {
  "language_info": {
   "name": "python"
  }
 },
 "nbformat": 4,
 "nbformat_minor": 5
}
